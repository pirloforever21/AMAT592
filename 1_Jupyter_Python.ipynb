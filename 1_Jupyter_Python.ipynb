{
 "cells": [
  {
   "cell_type": "markdown",
   "metadata": {},
   "source": [
    "# Jupyter - basics"
   ]
  },
  {
   "cell_type": "markdown",
   "metadata": {},
   "source": [
    "Jupyter is an easy way to interact with e.g. Python to do machine learning and data analysis,\n",
    "In this summer-school we are using Amazon AWS - SageMaker https://aws.amazon.com/sagemaker which allows you to use Amazon servers and the whole set-up takes just a few minutes.\n",
    "\n",
    "To learn more about jupyter notebook, see e.g.\n",
    "1. https://jupyter-notebook.readthedocs.io/en/stable/\n",
    "2. https://jupyter-notebook.readthedocs.io/en/stable/examples/Notebook/What%20is%20the%20Jupyter%20Notebook.html"
   ]
  },
  {
   "cell_type": "code",
   "execution_count": 1,
   "metadata": {},
   "outputs": [
    {
     "data": {
      "text/plain": [
       "5"
      ]
     },
     "execution_count": 1,
     "metadata": {},
     "output_type": "execute_result"
    }
   ],
   "source": [
    "# to run this cell, pres  CTRL+ENTER   or Shift+ENTER (Linux + Windows), \n",
    "5"
   ]
  },
  {
   "cell_type": "code",
   "execution_count": 2,
   "metadata": {},
   "outputs": [
    {
     "name": "stdout",
     "output_type": "stream",
     "text": [
      "0\n",
      "1\n",
      "2\n",
      "3\n",
      "4\n",
      "5\n",
      "6\n",
      "7\n"
     ]
    }
   ],
   "source": [
    "# the output is asynchornous\n",
    "import time, sys\n",
    "for i in range(8):\n",
    "    print(i)\n",
    "    time.sleep(0.5)"
   ]
  },
  {
   "cell_type": "code",
   "execution_count": 3,
   "metadata": {},
   "outputs": [
    {
     "name": "stdout",
     "output_type": "stream",
     "text": [
      "0\n",
      "1\n",
      "2\n",
      "3\n",
      "4\n",
      "5\n",
      "6\n",
      "7\n"
     ]
    }
   ],
   "source": [
    "# the output is asynchornous\n",
    "import time, sys\n",
    "for i in range(8):\n",
    "    print(i)\n",
    "    time.sleep(0.5)"
   ]
  },
  {
   "cell_type": "markdown",
   "metadata": {},
   "source": [
    "# Python - basics\n",
    "A nice tutorial for Python: https://developers.google.com/edu/python/"
   ]
  },
  {
   "cell_type": "code",
   "execution_count": 4,
   "metadata": {},
   "outputs": [
    {
     "data": {
      "text/plain": [
       "12"
      ]
     },
     "execution_count": 4,
     "metadata": {},
     "output_type": "execute_result"
    }
   ],
   "source": [
    "5+7"
   ]
  },
  {
   "cell_type": "code",
   "execution_count": 5,
   "metadata": {},
   "outputs": [
    {
     "name": "stdout",
     "output_type": "stream",
     "text": [
      "20\n"
     ]
    }
   ],
   "source": [
    "x = 17\n",
    "y = 3\n",
    "print x+y"
   ]
  },
  {
   "cell_type": "code",
   "execution_count": 6,
   "metadata": {},
   "outputs": [
    {
     "name": "stdout",
     "output_type": "stream",
     "text": [
      "[0, 1, 2, 3, 4, 5, 6, 7, 8, 9]\n",
      "0\n",
      "1\n",
      "2\n",
      "3\n",
      "4\n",
      "5\n",
      "6\n",
      "7\n",
      "8\n",
      "9\n"
     ]
    }
   ],
   "source": [
    "print range(10)\n",
    "for i in range(10):\n",
    "    print i"
   ]
  },
  {
   "cell_type": "code",
   "execution_count": 12,
   "metadata": {},
   "outputs": [
    {
     "name": "stdout",
     "output_type": "stream",
     "text": [
      "0\n",
      "0\n",
      "-1\n",
      "2\n",
      "4\n",
      "-3\n",
      "4\n",
      "16\n",
      "-5\n",
      "6\n",
      "36\n",
      "-7\n",
      "8\n",
      "64\n",
      "-9\n"
     ]
    }
   ],
   "source": [
    "# Caution: indentation!!!!\n",
    "for i in range(10):\n",
    "    m = i%2   # i modulo 2\n",
    "    if m == 0:\n",
    "        print i\n",
    "        print i*i\n",
    "    else:\n",
    "        print -i"
   ]
  },
  {
   "cell_type": "code",
   "execution_count": 8,
   "metadata": {},
   "outputs": [
    {
     "name": "stdout",
     "output_type": "stream",
     "text": [
      "s \ti  \n",
      "\n",
      "1 \t2\n",
      "3 \t3\n",
      "6 \t4\n",
      "10 \t5\n",
      "15 \t6\n",
      "21 \t7\n",
      "28 \t8\n",
      "36 \t9\n",
      "45 \t10\n",
      "55 \t11\n",
      "66 \t12\n",
      "78 \t13\n",
      "91 \t14\n",
      "105 \t15\n"
     ]
    }
   ],
   "source": [
    "s = 0\n",
    "i = 1\n",
    "print \"s \\ti  \\n\"\n",
    "while s < 100:\n",
    "    s += i\n",
    "    i=i+1\n",
    "    print s, \"\\t\", i"
   ]
  },
  {
   "cell_type": "code",
   "execution_count": null,
   "metadata": {},
   "outputs": [],
   "source": [
    "myList = [\"green\",\"red\",\"blue\"]\n",
    "print myList[0]\n",
    "print myList[-1]  \n",
    "\n"
   ]
  },
  {
   "cell_type": "markdown",
   "metadata": {},
   "source": [
    "# Numpy and Ploting\n",
    "1. http://www.numpy.org/\n",
    "2. https://matplotlib.org/users/pyplot_tutorial.html"
   ]
  },
  {
   "cell_type": "code",
   "execution_count": null,
   "metadata": {},
   "outputs": [],
   "source": [
    "import numpy as np\n",
    "\n",
    "x = np.array([[1,2,3,4,5,6]])\n",
    "print x\n",
    "print \"\"\n",
    "print np.transpose(x)\n",
    "print \"||x||=\",np.linalg.norm(x)"
   ]
  },
  {
   "cell_type": "code",
   "execution_count": null,
   "metadata": {},
   "outputs": [],
   "source": [
    "A = np.reshape(x,[2,-1])+0.0\n",
    "print \"Matrix A:\\n\",A\n",
    "B = A.transpose()\n",
    "print \"A^T A =\"\n",
    "print np.matmul(B,A)"
   ]
  },
  {
   "cell_type": "code",
   "execution_count": null,
   "metadata": {},
   "outputs": [],
   "source": [
    "import matplotlib.pyplot as plt\n",
    "%matplotlib inline  \n",
    "\n",
    "N = 10\n",
    "xList = range(N+1)\n",
    "x = np.array(xList)\n",
    "x = x*2*np.pi/N\n",
    "y = np.sin(x)\n",
    "\n",
    "plt.plot(x,y)\n",
    "plt.grid(True)\n",
    "plt.show()\n",
    "plt.plot(x,y, 'rs--')\n"
   ]
  },
  {
   "cell_type": "code",
   "execution_count": null,
   "metadata": {},
   "outputs": [],
   "source": [
    "# 4D Tensor\n",
    "T = np.reshape(A,[1,3,2,-1])\n",
    "print T.shape"
   ]
  },
  {
   "cell_type": "markdown",
   "metadata": {},
   "source": [
    "## Pointers"
   ]
  },
  {
   "cell_type": "code",
   "execution_count": null,
   "metadata": {},
   "outputs": [],
   "source": [
    "list1 = [\"A\",\"B\",\"C\"]\n",
    "list2 = list1\n",
    "print list1\n",
    "print list2"
   ]
  },
  {
   "cell_type": "code",
   "execution_count": null,
   "metadata": {},
   "outputs": [],
   "source": [
    "list2[0]=\"D\"\n",
    "print list2"
   ]
  },
  {
   "cell_type": "code",
   "execution_count": null,
   "metadata": {},
   "outputs": [],
   "source": [
    "print list1"
   ]
  },
  {
   "cell_type": "code",
   "execution_count": null,
   "metadata": {
    "scrolled": true
   },
   "outputs": [],
   "source": [
    "x = np.ones(5)\n",
    "print x\n",
    "y = x\n",
    "y[0]= 7\n",
    "print y\n",
    "print x"
   ]
  },
  {
   "cell_type": "code",
   "execution_count": null,
   "metadata": {},
   "outputs": [],
   "source": [
    "x = np.ones(5)\n",
    "print x\n",
    "y = x+0.0\n",
    "y[0]= 7\n",
    "print y\n",
    "print x"
   ]
  }
 ],
 "metadata": {
  "kernelspec": {
   "display_name": "Python 3",
   "language": "python",
   "name": "python3"
  },
  "language_info": {
   "codemirror_mode": {
    "name": "ipython",
    "version": 3
   },
   "file_extension": ".py",
   "mimetype": "text/x-python",
   "name": "python",
   "nbconvert_exporter": "python",
   "pygments_lexer": "ipython3",
   "version": "3.7.0"
  }
 },
 "nbformat": 4,
 "nbformat_minor": 2
}
